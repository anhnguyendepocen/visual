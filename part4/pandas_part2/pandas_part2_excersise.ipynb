{
 "cells": [
  {
   "cell_type": "markdown",
   "metadata": {},
   "source": [
    "# pandas 실습\n",
    "\n",
    "[국가통계포털](http://kosis.kr)로부터 주택 규모별 매매가격지수 및 전세가격지수를 2012년 1월부터 2015년 5월까지 가져왔습니다.\n",
    "\n",
    "이 데이터를 이용하여 주택의 매매/전세 가격 변동 추세를 pandas를 활용하여 분석해 보도록 하겠습니다."
   ]
  },
  {
   "cell_type": "code",
   "execution_count": 1,
   "metadata": {
    "collapsed": true
   },
   "outputs": [],
   "source": [
    "# -*- coding: utf-8 -*-"
   ]
  },
  {
   "cell_type": "code",
   "execution_count": 2,
   "metadata": {
    "collapsed": true
   },
   "outputs": [],
   "source": [
    "import pandas as pd\n",
    "import matplotlib"
   ]
  },
  {
   "cell_type": "code",
   "execution_count": 3,
   "metadata": {
    "collapsed": false
   },
   "outputs": [],
   "source": [
    "%matplotlib inline\n",
    "matplotlib.rc('font', family='AppleGothic')    # 한글이 나오는 폰트로 지정해 줘야 깨지지 않고 나옵니다. 윈도우는 Gulim으로 합니다."
   ]
  },
  {
   "cell_type": "code",
   "execution_count": 4,
   "metadata": {
    "collapsed": false
   },
   "outputs": [
    {
     "data": {
      "text/html": [
       "<div style=\"max-height:1000px;max-width:1500px;overflow:auto;\">\n",
       "<table border=\"1\" class=\"dataframe\">\n",
       "  <thead>\n",
       "    <tr style=\"text-align: right;\">\n",
       "      <th></th>\n",
       "      <th>2012. 11</th>\n",
       "      <th>2012. 12</th>\n",
       "      <th>2013. 01</th>\n",
       "      <th>2013. 02</th>\n",
       "      <th>2013. 03</th>\n",
       "      <th>2013. 04</th>\n",
       "      <th>2013. 05</th>\n",
       "      <th>2013. 06</th>\n",
       "      <th>2013. 07</th>\n",
       "      <th>2013. 08</th>\n",
       "      <th>...</th>\n",
       "      <th>2014. 08</th>\n",
       "      <th>2014. 09</th>\n",
       "      <th>2014. 10</th>\n",
       "      <th>2014. 11</th>\n",
       "      <th>2014. 12</th>\n",
       "      <th>2015. 01</th>\n",
       "      <th>2015. 02</th>\n",
       "      <th>2015. 03</th>\n",
       "      <th>2015. 04</th>\n",
       "      <th>2015. 05</th>\n",
       "    </tr>\n",
       "  </thead>\n",
       "  <tbody>\n",
       "    <tr>\n",
       "      <th>count</th>\n",
       "      <td>260</td>\n",
       "      <td>260.000000</td>\n",
       "      <td>260.000000</td>\n",
       "      <td>260.000000</td>\n",
       "      <td>260.000000</td>\n",
       "      <td>260.000000</td>\n",
       "      <td>260.000000</td>\n",
       "      <td>260.000000</td>\n",
       "      <td>260.000000</td>\n",
       "      <td>260.000000</td>\n",
       "      <td>...</td>\n",
       "      <td>260.000000</td>\n",
       "      <td>260.000000</td>\n",
       "      <td>260.000000</td>\n",
       "      <td>260.000000</td>\n",
       "      <td>260.000000</td>\n",
       "      <td>260.000000</td>\n",
       "      <td>260.000000</td>\n",
       "      <td>260.000000</td>\n",
       "      <td>260.000000</td>\n",
       "      <td>260.000000</td>\n",
       "    </tr>\n",
       "    <tr>\n",
       "      <th>mean</th>\n",
       "      <td>100</td>\n",
       "      <td>99.894231</td>\n",
       "      <td>99.771923</td>\n",
       "      <td>99.685000</td>\n",
       "      <td>99.655385</td>\n",
       "      <td>99.765385</td>\n",
       "      <td>99.867308</td>\n",
       "      <td>99.936154</td>\n",
       "      <td>99.941154</td>\n",
       "      <td>99.840000</td>\n",
       "      <td>...</td>\n",
       "      <td>100.903846</td>\n",
       "      <td>101.046538</td>\n",
       "      <td>101.251538</td>\n",
       "      <td>101.400769</td>\n",
       "      <td>101.576923</td>\n",
       "      <td>101.761923</td>\n",
       "      <td>101.913846</td>\n",
       "      <td>102.153846</td>\n",
       "      <td>102.453846</td>\n",
       "      <td>102.674231</td>\n",
       "    </tr>\n",
       "    <tr>\n",
       "      <th>std</th>\n",
       "      <td>0</td>\n",
       "      <td>0.490848</td>\n",
       "      <td>0.802951</td>\n",
       "      <td>1.070798</td>\n",
       "      <td>1.345897</td>\n",
       "      <td>1.589576</td>\n",
       "      <td>1.779975</td>\n",
       "      <td>1.932690</td>\n",
       "      <td>2.193945</td>\n",
       "      <td>2.344898</td>\n",
       "      <td>...</td>\n",
       "      <td>4.054063</td>\n",
       "      <td>4.169158</td>\n",
       "      <td>4.277872</td>\n",
       "      <td>4.391093</td>\n",
       "      <td>4.523385</td>\n",
       "      <td>4.703680</td>\n",
       "      <td>4.804683</td>\n",
       "      <td>4.903677</td>\n",
       "      <td>5.097583</td>\n",
       "      <td>5.230213</td>\n",
       "    </tr>\n",
       "    <tr>\n",
       "      <th>min</th>\n",
       "      <td>100</td>\n",
       "      <td>97.800000</td>\n",
       "      <td>97.200000</td>\n",
       "      <td>96.600000</td>\n",
       "      <td>96.200000</td>\n",
       "      <td>95.200000</td>\n",
       "      <td>94.300000</td>\n",
       "      <td>94.400000</td>\n",
       "      <td>94.300000</td>\n",
       "      <td>93.900000</td>\n",
       "      <td>...</td>\n",
       "      <td>88.900000</td>\n",
       "      <td>88.900000</td>\n",
       "      <td>88.900000</td>\n",
       "      <td>88.200000</td>\n",
       "      <td>88.200000</td>\n",
       "      <td>88.200000</td>\n",
       "      <td>88.200000</td>\n",
       "      <td>89.200000</td>\n",
       "      <td>89.200000</td>\n",
       "      <td>89.200000</td>\n",
       "    </tr>\n",
       "    <tr>\n",
       "      <th>25%</th>\n",
       "      <td>100</td>\n",
       "      <td>99.700000</td>\n",
       "      <td>99.400000</td>\n",
       "      <td>99.200000</td>\n",
       "      <td>99.100000</td>\n",
       "      <td>99.000000</td>\n",
       "      <td>99.100000</td>\n",
       "      <td>99.100000</td>\n",
       "      <td>99.075000</td>\n",
       "      <td>98.800000</td>\n",
       "      <td>...</td>\n",
       "      <td>98.775000</td>\n",
       "      <td>98.875000</td>\n",
       "      <td>99.100000</td>\n",
       "      <td>99.275000</td>\n",
       "      <td>99.400000</td>\n",
       "      <td>99.400000</td>\n",
       "      <td>99.500000</td>\n",
       "      <td>99.675000</td>\n",
       "      <td>99.800000</td>\n",
       "      <td>99.950000</td>\n",
       "    </tr>\n",
       "    <tr>\n",
       "      <th>50%</th>\n",
       "      <td>100</td>\n",
       "      <td>99.900000</td>\n",
       "      <td>99.800000</td>\n",
       "      <td>99.800000</td>\n",
       "      <td>99.800000</td>\n",
       "      <td>99.900000</td>\n",
       "      <td>99.900000</td>\n",
       "      <td>100.000000</td>\n",
       "      <td>99.900000</td>\n",
       "      <td>99.850000</td>\n",
       "      <td>...</td>\n",
       "      <td>100.400000</td>\n",
       "      <td>100.550000</td>\n",
       "      <td>100.650000</td>\n",
       "      <td>100.700000</td>\n",
       "      <td>100.900000</td>\n",
       "      <td>101.000000</td>\n",
       "      <td>101.000000</td>\n",
       "      <td>101.350000</td>\n",
       "      <td>101.500000</td>\n",
       "      <td>101.650000</td>\n",
       "    </tr>\n",
       "    <tr>\n",
       "      <th>75%</th>\n",
       "      <td>100</td>\n",
       "      <td>100.100000</td>\n",
       "      <td>100.100000</td>\n",
       "      <td>100.100000</td>\n",
       "      <td>100.200000</td>\n",
       "      <td>100.400000</td>\n",
       "      <td>100.500000</td>\n",
       "      <td>100.600000</td>\n",
       "      <td>100.700000</td>\n",
       "      <td>100.700000</td>\n",
       "      <td>...</td>\n",
       "      <td>102.200000</td>\n",
       "      <td>102.500000</td>\n",
       "      <td>102.900000</td>\n",
       "      <td>103.100000</td>\n",
       "      <td>103.300000</td>\n",
       "      <td>103.500000</td>\n",
       "      <td>103.700000</td>\n",
       "      <td>103.925000</td>\n",
       "      <td>104.400000</td>\n",
       "      <td>104.700000</td>\n",
       "    </tr>\n",
       "    <tr>\n",
       "      <th>max</th>\n",
       "      <td>100</td>\n",
       "      <td>102.500000</td>\n",
       "      <td>103.800000</td>\n",
       "      <td>105.200000</td>\n",
       "      <td>107.300000</td>\n",
       "      <td>108.100000</td>\n",
       "      <td>108.600000</td>\n",
       "      <td>109.000000</td>\n",
       "      <td>109.100000</td>\n",
       "      <td>110.100000</td>\n",
       "      <td>...</td>\n",
       "      <td>122.300000</td>\n",
       "      <td>122.900000</td>\n",
       "      <td>123.300000</td>\n",
       "      <td>124.200000</td>\n",
       "      <td>124.800000</td>\n",
       "      <td>125.400000</td>\n",
       "      <td>125.900000</td>\n",
       "      <td>126.500000</td>\n",
       "      <td>127.700000</td>\n",
       "      <td>128.800000</td>\n",
       "    </tr>\n",
       "  </tbody>\n",
       "</table>\n",
       "<p>8 rows × 31 columns</p>\n",
       "</div>"
      ],
      "text/plain": [
       "       2012. 11    2012. 12    2013. 01    2013. 02    2013. 03    2013. 04  \\\n",
       "count       260  260.000000  260.000000  260.000000  260.000000  260.000000   \n",
       "mean        100   99.894231   99.771923   99.685000   99.655385   99.765385   \n",
       "std           0    0.490848    0.802951    1.070798    1.345897    1.589576   \n",
       "min         100   97.800000   97.200000   96.600000   96.200000   95.200000   \n",
       "25%         100   99.700000   99.400000   99.200000   99.100000   99.000000   \n",
       "50%         100   99.900000   99.800000   99.800000   99.800000   99.900000   \n",
       "75%         100  100.100000  100.100000  100.100000  100.200000  100.400000   \n",
       "max         100  102.500000  103.800000  105.200000  107.300000  108.100000   \n",
       "\n",
       "         2013. 05    2013. 06    2013. 07    2013. 08     ...        2014. 08  \\\n",
       "count  260.000000  260.000000  260.000000  260.000000     ...      260.000000   \n",
       "mean    99.867308   99.936154   99.941154   99.840000     ...      100.903846   \n",
       "std      1.779975    1.932690    2.193945    2.344898     ...        4.054063   \n",
       "min     94.300000   94.400000   94.300000   93.900000     ...       88.900000   \n",
       "25%     99.100000   99.100000   99.075000   98.800000     ...       98.775000   \n",
       "50%     99.900000  100.000000   99.900000   99.850000     ...      100.400000   \n",
       "75%    100.500000  100.600000  100.700000  100.700000     ...      102.200000   \n",
       "max    108.600000  109.000000  109.100000  110.100000     ...      122.300000   \n",
       "\n",
       "         2014. 09    2014. 10    2014. 11    2014. 12    2015. 01    2015. 02  \\\n",
       "count  260.000000  260.000000  260.000000  260.000000  260.000000  260.000000   \n",
       "mean   101.046538  101.251538  101.400769  101.576923  101.761923  101.913846   \n",
       "std      4.169158    4.277872    4.391093    4.523385    4.703680    4.804683   \n",
       "min     88.900000   88.900000   88.200000   88.200000   88.200000   88.200000   \n",
       "25%     98.875000   99.100000   99.275000   99.400000   99.400000   99.500000   \n",
       "50%    100.550000  100.650000  100.700000  100.900000  101.000000  101.000000   \n",
       "75%    102.500000  102.900000  103.100000  103.300000  103.500000  103.700000   \n",
       "max    122.900000  123.300000  124.200000  124.800000  125.400000  125.900000   \n",
       "\n",
       "         2015. 03    2015. 04    2015. 05  \n",
       "count  260.000000  260.000000  260.000000  \n",
       "mean   102.153846  102.453846  102.674231  \n",
       "std      4.903677    5.097583    5.230213  \n",
       "min     89.200000   89.200000   89.200000  \n",
       "25%     99.675000   99.800000   99.950000  \n",
       "50%    101.350000  101.500000  101.650000  \n",
       "75%    103.925000  104.400000  104.700000  \n",
       "max    126.500000  127.700000  128.800000  \n",
       "\n",
       "[8 rows x 31 columns]"
      ]
     },
     "execution_count": 4,
     "metadata": {},
     "output_type": "execute_result"
    }
   ],
   "source": [
    "# CSV 파일을 DataFrame 객체로 읽어들입니다.\n",
    "df_sale = ????    # sale.csv 파일\n",
    "\n",
    "# 기본적인 통계 정보를 출력합니다.\n",
    "df_sale.????()"
   ]
  },
  {
   "cell_type": "code",
   "execution_count": 5,
   "metadata": {
    "collapsed": false
   },
   "outputs": [
    {
     "data": {
      "text/html": [
       "<div style=\"max-height:1000px;max-width:1500px;overflow:auto;\">\n",
       "<table border=\"1\" class=\"dataframe\">\n",
       "  <thead>\n",
       "    <tr style=\"text-align: right;\">\n",
       "      <th></th>\n",
       "      <th>주택유형</th>\n",
       "      <th>지역</th>\n",
       "      <th>주택규모</th>\n",
       "      <th>2012. 01</th>\n",
       "      <th>2012. 02</th>\n",
       "      <th>2012. 03</th>\n",
       "      <th>2012. 04</th>\n",
       "      <th>2012. 05</th>\n",
       "      <th>2012. 06</th>\n",
       "      <th>2012. 07</th>\n",
       "      <th>...</th>\n",
       "      <th>2014. 08</th>\n",
       "      <th>2014. 09</th>\n",
       "      <th>2014. 10</th>\n",
       "      <th>2014. 11</th>\n",
       "      <th>2014. 12</th>\n",
       "      <th>2015. 01</th>\n",
       "      <th>2015. 02</th>\n",
       "      <th>2015. 03</th>\n",
       "      <th>2015. 04</th>\n",
       "      <th>2015. 05</th>\n",
       "    </tr>\n",
       "  </thead>\n",
       "  <tbody>\n",
       "    <tr>\n",
       "      <th>255</th>\n",
       "      <td>단독주택</td>\n",
       "      <td>6대광역시</td>\n",
       "      <td>규모2</td>\n",
       "      <td>99.9</td>\n",
       "      <td>99.9</td>\n",
       "      <td>100.0</td>\n",
       "      <td>100.0</td>\n",
       "      <td>100.0</td>\n",
       "      <td>100.0</td>\n",
       "      <td>100.1</td>\n",
       "      <td>...</td>\n",
       "      <td>99.8</td>\n",
       "      <td>99.8</td>\n",
       "      <td>99.9</td>\n",
       "      <td>100.0</td>\n",
       "      <td>100.1</td>\n",
       "      <td>100.1</td>\n",
       "      <td>100.1</td>\n",
       "      <td>100.2</td>\n",
       "      <td>100.2</td>\n",
       "      <td>100.3</td>\n",
       "    </tr>\n",
       "    <tr>\n",
       "      <th>256</th>\n",
       "      <td>단독주택</td>\n",
       "      <td>6대광역시</td>\n",
       "      <td>규모3</td>\n",
       "      <td>100.0</td>\n",
       "      <td>100.0</td>\n",
       "      <td>100.0</td>\n",
       "      <td>100.0</td>\n",
       "      <td>100.0</td>\n",
       "      <td>100.0</td>\n",
       "      <td>100.0</td>\n",
       "      <td>...</td>\n",
       "      <td>99.1</td>\n",
       "      <td>99.2</td>\n",
       "      <td>99.3</td>\n",
       "      <td>99.3</td>\n",
       "      <td>99.4</td>\n",
       "      <td>99.3</td>\n",
       "      <td>99.4</td>\n",
       "      <td>99.5</td>\n",
       "      <td>99.6</td>\n",
       "      <td>99.8</td>\n",
       "    </tr>\n",
       "    <tr>\n",
       "      <th>257</th>\n",
       "      <td>단독주택</td>\n",
       "      <td>9개도</td>\n",
       "      <td>규모1</td>\n",
       "      <td>99.9</td>\n",
       "      <td>99.9</td>\n",
       "      <td>100.0</td>\n",
       "      <td>100.0</td>\n",
       "      <td>100.0</td>\n",
       "      <td>100.0</td>\n",
       "      <td>100.0</td>\n",
       "      <td>...</td>\n",
       "      <td>100.4</td>\n",
       "      <td>100.4</td>\n",
       "      <td>100.4</td>\n",
       "      <td>100.4</td>\n",
       "      <td>100.5</td>\n",
       "      <td>100.5</td>\n",
       "      <td>100.5</td>\n",
       "      <td>100.6</td>\n",
       "      <td>100.7</td>\n",
       "      <td>100.7</td>\n",
       "    </tr>\n",
       "    <tr>\n",
       "      <th>258</th>\n",
       "      <td>단독주택</td>\n",
       "      <td>9개도</td>\n",
       "      <td>규모2</td>\n",
       "      <td>99.7</td>\n",
       "      <td>99.6</td>\n",
       "      <td>99.8</td>\n",
       "      <td>99.9</td>\n",
       "      <td>100.0</td>\n",
       "      <td>100.0</td>\n",
       "      <td>100.0</td>\n",
       "      <td>...</td>\n",
       "      <td>100.5</td>\n",
       "      <td>100.6</td>\n",
       "      <td>100.6</td>\n",
       "      <td>100.7</td>\n",
       "      <td>100.7</td>\n",
       "      <td>100.8</td>\n",
       "      <td>100.8</td>\n",
       "      <td>100.9</td>\n",
       "      <td>100.9</td>\n",
       "      <td>101.0</td>\n",
       "    </tr>\n",
       "    <tr>\n",
       "      <th>259</th>\n",
       "      <td>단독주택</td>\n",
       "      <td>9개도</td>\n",
       "      <td>규모3</td>\n",
       "      <td>99.8</td>\n",
       "      <td>99.8</td>\n",
       "      <td>99.9</td>\n",
       "      <td>100.0</td>\n",
       "      <td>100.1</td>\n",
       "      <td>100.0</td>\n",
       "      <td>100.0</td>\n",
       "      <td>...</td>\n",
       "      <td>100.3</td>\n",
       "      <td>100.3</td>\n",
       "      <td>100.3</td>\n",
       "      <td>100.4</td>\n",
       "      <td>100.4</td>\n",
       "      <td>100.5</td>\n",
       "      <td>100.5</td>\n",
       "      <td>100.5</td>\n",
       "      <td>100.5</td>\n",
       "      <td>100.6</td>\n",
       "    </tr>\n",
       "  </tbody>\n",
       "</table>\n",
       "<p>5 rows × 44 columns</p>\n",
       "</div>"
      ],
      "text/plain": [
       "     주택유형     지역 주택규모 2012. 01 2012. 02 2012. 03 2012. 04 2012. 05 2012. 06  \\\n",
       "255  단독주택  6대광역시  규모2     99.9     99.9    100.0    100.0    100.0    100.0   \n",
       "256  단독주택  6대광역시  규모3    100.0    100.0    100.0    100.0    100.0    100.0   \n",
       "257  단독주택    9개도  규모1     99.9     99.9    100.0    100.0    100.0    100.0   \n",
       "258  단독주택    9개도  규모2     99.7     99.6     99.8     99.9    100.0    100.0   \n",
       "259  단독주택    9개도  규모3     99.8     99.8     99.9    100.0    100.1    100.0   \n",
       "\n",
       "    2012. 07    ...    2014. 08 2014. 09 2014. 10  2014. 11  2014. 12  \\\n",
       "255    100.1    ...        99.8     99.8     99.9     100.0     100.1   \n",
       "256    100.0    ...        99.1     99.2     99.3      99.3      99.4   \n",
       "257    100.0    ...       100.4    100.4    100.4     100.4     100.5   \n",
       "258    100.0    ...       100.5    100.6    100.6     100.7     100.7   \n",
       "259    100.0    ...       100.3    100.3    100.3     100.4     100.4   \n",
       "\n",
       "     2015. 01  2015. 02  2015. 03  2015. 04  2015. 05  \n",
       "255     100.1     100.1     100.2     100.2     100.3  \n",
       "256      99.3      99.4      99.5      99.6      99.8  \n",
       "257     100.5     100.5     100.6     100.7     100.7  \n",
       "258     100.8     100.8     100.9     100.9     101.0  \n",
       "259     100.5     100.5     100.5     100.5     100.6  \n",
       "\n",
       "[5 rows x 44 columns]"
      ]
     },
     "execution_count": 5,
     "metadata": {},
     "output_type": "execute_result"
    }
   ],
   "source": [
    "# 맨 앞 5개 행을 출력합니다.\n",
    "df_sale[????]\n",
    "\n",
    "# 맨 뒤 5개 행을 출력합니다.\n",
    "df_sale[????]"
   ]
  },
  {
   "cell_type": "code",
   "execution_count": 6,
   "metadata": {
    "collapsed": false
   },
   "outputs": [
    {
     "name": "stdout",
     "output_type": "stream",
     "text": [
      "0        아파트\n",
      "118    연립다세대\n",
      "188     단독주택\n",
      "Name: 주택유형, dtype: object\n",
      "\n",
      "0         전국\n",
      "5        수도권\n",
      "10        지방\n",
      "15     5대광역시\n",
      "20       8개도\n",
      "25        서울\n",
      "30        경기\n",
      "35        인천\n",
      "40        부산\n",
      "45        대구\n",
      "50        광주\n",
      "55        대전\n",
      "60        울산\n",
      "65        세종\n",
      "68        강원\n",
      "73        충북\n",
      "78        충남\n",
      "83        전북\n",
      "88        전남\n",
      "93        경북\n",
      "98        경남\n",
      "103       제주\n",
      "108    6대광역시\n",
      "113      9개도\n",
      "Name: 지역, dtype: object\n",
      "\n",
      "0    규모1\n",
      "1    규모2\n",
      "2    규모3\n",
      "3    규모4\n",
      "4    규모5\n",
      "Name: 주택규모, dtype: object\n"
     ]
    }
   ],
   "source": [
    "# 주택유형, 지역, 주택규모에는 어떤 것이 있는지 출력해 봅니다.\n",
    "print ????    # 주택유형 컬럼\n",
    "print\n",
    "print ????    # 지역 컬럼\n",
    "print\n",
    "print ????    # 주택규모 컬럼"
   ]
  },
  {
   "cell_type": "code",
   "execution_count": 7,
   "metadata": {
    "collapsed": false
   },
   "outputs": [
    {
     "name": "stderr",
     "output_type": "stream",
     "text": [
      "/Users/Jamie/usr/virenv.mac/lib/python2.7/site-packages/pandas/core/frame.py:1819: UserWarning: Boolean Series key will be reindexed to match DataFrame index.\n",
      "  \"DataFrame index.\", UserWarning)\n"
     ]
    },
    {
     "data": {
      "text/html": [
       "<div style=\"max-height:1000px;max-width:1500px;overflow:auto;\">\n",
       "<table border=\"1\" class=\"dataframe\">\n",
       "  <thead>\n",
       "    <tr style=\"text-align: right;\">\n",
       "      <th></th>\n",
       "      <th>주택유형</th>\n",
       "      <th>지역</th>\n",
       "      <th>주택규모</th>\n",
       "      <th>2012. 01</th>\n",
       "      <th>2012. 02</th>\n",
       "      <th>2012. 03</th>\n",
       "      <th>2012. 04</th>\n",
       "      <th>2012. 05</th>\n",
       "      <th>2012. 06</th>\n",
       "      <th>2012. 07</th>\n",
       "      <th>...</th>\n",
       "      <th>2014. 08</th>\n",
       "      <th>2014. 09</th>\n",
       "      <th>2014. 10</th>\n",
       "      <th>2014. 11</th>\n",
       "      <th>2014. 12</th>\n",
       "      <th>2015. 01</th>\n",
       "      <th>2015. 02</th>\n",
       "      <th>2015. 03</th>\n",
       "      <th>2015. 04</th>\n",
       "      <th>2015. 05</th>\n",
       "    </tr>\n",
       "  </thead>\n",
       "  <tbody>\n",
       "    <tr>\n",
       "      <th>31</th>\n",
       "      <td>아파트</td>\n",
       "      <td>경기</td>\n",
       "      <td>규모2</td>\n",
       "      <td>105.0</td>\n",
       "      <td>104.9</td>\n",
       "      <td>104.6</td>\n",
       "      <td>104.2</td>\n",
       "      <td>103.9</td>\n",
       "      <td>103.3</td>\n",
       "      <td>102.7</td>\n",
       "      <td>...</td>\n",
       "      <td>100.3</td>\n",
       "      <td>100.9</td>\n",
       "      <td>101.3</td>\n",
       "      <td>101.6</td>\n",
       "      <td>101.8</td>\n",
       "      <td>102</td>\n",
       "      <td>102.4</td>\n",
       "      <td>102.9</td>\n",
       "      <td>103.7</td>\n",
       "      <td>104.3</td>\n",
       "    </tr>\n",
       "  </tbody>\n",
       "</table>\n",
       "<p>1 rows × 44 columns</p>\n",
       "</div>"
      ],
      "text/plain": [
       "   주택유형  지역 주택규모 2012. 01 2012. 02 2012. 03 2012. 04 2012. 05 2012. 06  \\\n",
       "31  아파트  경기  규모2    105.0    104.9    104.6    104.2    103.9    103.3   \n",
       "\n",
       "   2012. 07    ...    2014. 08 2014. 09 2014. 10  2014. 11  2014. 12  \\\n",
       "31    102.7    ...       100.3    100.9    101.3     101.6     101.8   \n",
       "\n",
       "    2015. 01  2015. 02  2015. 03  2015. 04  2015. 05  \n",
       "31       102     102.4     102.9     103.7     104.3  \n",
       "\n",
       "[1 rows x 44 columns]"
      ]
     },
     "execution_count": 7,
     "metadata": {},
     "output_type": "execute_result"
    }
   ],
   "source": [
    "# 경기 지역 60~85제곱미터(규모2) 아파트만 남깁니다.\n",
    "df_sale31 = ????    # 아파트, 경기, 규모2 만 남깁니다.\n",
    "df_sale31"
   ]
  },
  {
   "cell_type": "code",
   "execution_count": 8,
   "metadata": {
    "collapsed": false
   },
   "outputs": [
    {
     "data": {
      "text/html": [
       "<div style=\"max-height:1000px;max-width:1500px;overflow:auto;\">\n",
       "<table border=\"1\" class=\"dataframe\">\n",
       "  <thead>\n",
       "    <tr style=\"text-align: right;\">\n",
       "      <th></th>\n",
       "      <th>2012. 01</th>\n",
       "      <th>2012. 02</th>\n",
       "      <th>2012. 03</th>\n",
       "      <th>2012. 04</th>\n",
       "      <th>2012. 05</th>\n",
       "      <th>2012. 06</th>\n",
       "      <th>2012. 07</th>\n",
       "      <th>2012. 08</th>\n",
       "      <th>2012. 09</th>\n",
       "      <th>2012. 10</th>\n",
       "      <th>...</th>\n",
       "      <th>2014. 08</th>\n",
       "      <th>2014. 09</th>\n",
       "      <th>2014. 10</th>\n",
       "      <th>2014. 11</th>\n",
       "      <th>2014. 12</th>\n",
       "      <th>2015. 01</th>\n",
       "      <th>2015. 02</th>\n",
       "      <th>2015. 03</th>\n",
       "      <th>2015. 04</th>\n",
       "      <th>2015. 05</th>\n",
       "    </tr>\n",
       "  </thead>\n",
       "  <tbody>\n",
       "    <tr>\n",
       "      <th>31</th>\n",
       "      <td>105.0</td>\n",
       "      <td>104.9</td>\n",
       "      <td>104.6</td>\n",
       "      <td>104.2</td>\n",
       "      <td>103.9</td>\n",
       "      <td>103.3</td>\n",
       "      <td>102.7</td>\n",
       "      <td>101.9</td>\n",
       "      <td>101.2</td>\n",
       "      <td>100.6</td>\n",
       "      <td>...</td>\n",
       "      <td>100.3</td>\n",
       "      <td>100.9</td>\n",
       "      <td>101.3</td>\n",
       "      <td>101.6</td>\n",
       "      <td>101.8</td>\n",
       "      <td>102</td>\n",
       "      <td>102.4</td>\n",
       "      <td>102.9</td>\n",
       "      <td>103.7</td>\n",
       "      <td>104.3</td>\n",
       "    </tr>\n",
       "  </tbody>\n",
       "</table>\n",
       "<p>1 rows × 41 columns</p>\n",
       "</div>"
      ],
      "text/plain": [
       "   2012. 01 2012. 02 2012. 03 2012. 04 2012. 05 2012. 06 2012. 07 2012. 08  \\\n",
       "31    105.0    104.9    104.6    104.2    103.9    103.3    102.7    101.9   \n",
       "\n",
       "   2012. 09 2012. 10    ...     2014. 08  2014. 09  2014. 10  2014. 11  \\\n",
       "31    101.2    100.6    ...        100.3     100.9     101.3     101.6   \n",
       "\n",
       "    2014. 12  2015. 01  2015. 02  2015. 03  2015. 04  2015. 05  \n",
       "31     101.8       102     102.4     102.9     103.7     104.3  \n",
       "\n",
       "[1 rows x 41 columns]"
      ]
     },
     "execution_count": 8,
     "metadata": {},
     "output_type": "execute_result"
    }
   ],
   "source": [
    "# 주택유형, 지역, 주택규모 컬럼을 제거합니다.\n",
    "del ????    # 주택유형\n",
    "del ????    # 지역\n",
    "del ????    # 주택규모\n",
    "df_sale31"
   ]
  },
  {
   "cell_type": "code",
   "execution_count": 9,
   "metadata": {
    "collapsed": false
   },
   "outputs": [
    {
     "data": {
      "text/html": [
       "<div style=\"max-height:1000px;max-width:1500px;overflow:auto;\">\n",
       "<table border=\"1\" class=\"dataframe\">\n",
       "  <thead>\n",
       "    <tr style=\"text-align: right;\">\n",
       "      <th></th>\n",
       "      <th>31</th>\n",
       "    </tr>\n",
       "  </thead>\n",
       "  <tbody>\n",
       "    <tr>\n",
       "      <th>2012. 01</th>\n",
       "      <td>105.0</td>\n",
       "    </tr>\n",
       "    <tr>\n",
       "      <th>2012. 02</th>\n",
       "      <td>104.9</td>\n",
       "    </tr>\n",
       "    <tr>\n",
       "      <th>2012. 03</th>\n",
       "      <td>104.6</td>\n",
       "    </tr>\n",
       "    <tr>\n",
       "      <th>2012. 04</th>\n",
       "      <td>104.2</td>\n",
       "    </tr>\n",
       "    <tr>\n",
       "      <th>2012. 05</th>\n",
       "      <td>103.9</td>\n",
       "    </tr>\n",
       "  </tbody>\n",
       "</table>\n",
       "</div>"
      ],
      "text/plain": [
       "             31\n",
       "2012. 01  105.0\n",
       "2012. 02  104.9\n",
       "2012. 03  104.6\n",
       "2012. 04  104.2\n",
       "2012. 05  103.9"
      ]
     },
     "execution_count": 9,
     "metadata": {},
     "output_type": "execute_result"
    }
   ],
   "source": [
    "# 열과 행을 바꿉니다.\n",
    "df_sale31_transpose = ????\n",
    "df_sale31_transpose[:5]"
   ]
  },
  {
   "cell_type": "code",
   "execution_count": 10,
   "metadata": {
    "collapsed": false
   },
   "outputs": [
    {
     "data": {
      "text/html": [
       "<div style=\"max-height:1000px;max-width:1500px;overflow:auto;\">\n",
       "<table border=\"1\" class=\"dataframe\">\n",
       "  <thead>\n",
       "    <tr style=\"text-align: right;\">\n",
       "      <th></th>\n",
       "      <th>매매</th>\n",
       "    </tr>\n",
       "  </thead>\n",
       "  <tbody>\n",
       "    <tr>\n",
       "      <th>2012. 01</th>\n",
       "      <td>105.0</td>\n",
       "    </tr>\n",
       "    <tr>\n",
       "      <th>2012. 02</th>\n",
       "      <td>104.9</td>\n",
       "    </tr>\n",
       "    <tr>\n",
       "      <th>2012. 03</th>\n",
       "      <td>104.6</td>\n",
       "    </tr>\n",
       "    <tr>\n",
       "      <th>2012. 04</th>\n",
       "      <td>104.2</td>\n",
       "    </tr>\n",
       "    <tr>\n",
       "      <th>2012. 05</th>\n",
       "      <td>103.9</td>\n",
       "    </tr>\n",
       "  </tbody>\n",
       "</table>\n",
       "</div>"
      ],
      "text/plain": [
       "             매매\n",
       "2012. 01  105.0\n",
       "2012. 02  104.9\n",
       "2012. 03  104.6\n",
       "2012. 04  104.2\n",
       "2012. 05  103.9"
      ]
     },
     "execution_count": 10,
     "metadata": {},
     "output_type": "execute_result"
    }
   ],
   "source": [
    "# 컬럼명을 '매매'로 바꿉니다.\n",
    "????\n",
    "df_sale31_transpose[:5]"
   ]
  },
  {
   "cell_type": "code",
   "execution_count": 11,
   "metadata": {
    "collapsed": false
   },
   "outputs": [
    {
     "data": {
      "text/html": [
       "<div style=\"max-height:1000px;max-width:1500px;overflow:auto;\">\n",
       "<table border=\"1\" class=\"dataframe\">\n",
       "  <thead>\n",
       "    <tr style=\"text-align: right;\">\n",
       "      <th></th>\n",
       "      <th>매매</th>\n",
       "    </tr>\n",
       "  </thead>\n",
       "  <tbody>\n",
       "    <tr>\n",
       "      <th>count</th>\n",
       "      <td>41.000000</td>\n",
       "    </tr>\n",
       "    <tr>\n",
       "      <th>mean</th>\n",
       "      <td>100.778049</td>\n",
       "    </tr>\n",
       "    <tr>\n",
       "      <th>std</th>\n",
       "      <td>2.229519</td>\n",
       "    </tr>\n",
       "    <tr>\n",
       "      <th>min</th>\n",
       "      <td>97.800000</td>\n",
       "    </tr>\n",
       "    <tr>\n",
       "      <th>25%</th>\n",
       "      <td>98.800000</td>\n",
       "    </tr>\n",
       "    <tr>\n",
       "      <th>50%</th>\n",
       "      <td>100.200000</td>\n",
       "    </tr>\n",
       "    <tr>\n",
       "      <th>75%</th>\n",
       "      <td>102.400000</td>\n",
       "    </tr>\n",
       "    <tr>\n",
       "      <th>max</th>\n",
       "      <td>105.000000</td>\n",
       "    </tr>\n",
       "  </tbody>\n",
       "</table>\n",
       "</div>"
      ],
      "text/plain": [
       "               매매\n",
       "count   41.000000\n",
       "mean   100.778049\n",
       "std      2.229519\n",
       "min     97.800000\n",
       "25%     98.800000\n",
       "50%    100.200000\n",
       "75%    102.400000\n",
       "max    105.000000"
      ]
     },
     "execution_count": 11,
     "metadata": {},
     "output_type": "execute_result"
    }
   ],
   "source": [
    "# 데이터 타입을 문자열에서 실수로 바꿉니다.\n",
    "sale = df_sale31_transpose.????\n",
    "sale.????()"
   ]
  },
  {
   "cell_type": "code",
   "execution_count": 12,
   "metadata": {
    "collapsed": false
   },
   "outputs": [
    {
     "data": {
      "text/plain": [
       "<matplotlib.axes._subplots.AxesSubplot at 0x10be27ed0>"
      ]
     },
     "execution_count": 12,
     "metadata": {},
     "output_type": "execute_result"
    },
    {
     "data": {
      "image/png": "[encoded data removed]",
      "text/plain": [
       "<matplotlib.figure.Figure at 0x10c046c90>"
      ]
     },
     "metadata": {},
     "output_type": "display_data"
    }
   ],
   "source": [
    "# 그림을 그려볼까요?\n",
    "sale.????()"
   ]
  },
  {
   "cell_type": "code",
   "execution_count": 13,
   "metadata": {
    "collapsed": true
   },
   "outputs": [],
   "source": [
    "# CSV 파일 경로, 주택유형, 지역, 주택규모, 컬럼명을 파라미터로 넣으면,\n",
    "# 지금까지 차례대로 만든 DataFrame을 리턴하는 함수를 만들어 봅시다.\n",
    "\n",
    "def load_data(csv_path, house_type, region, house_size, col_name):\n",
    "    ????"
   ]
  },
  {
   "cell_type": "code",
   "execution_count": 14,
   "metadata": {
    "collapsed": false
   },
   "outputs": [
    {
     "data": {
      "text/html": [
       "<div style=\"max-height:1000px;max-width:1500px;overflow:auto;\">\n",
       "<table border=\"1\" class=\"dataframe\">\n",
       "  <thead>\n",
       "    <tr style=\"text-align: right;\">\n",
       "      <th></th>\n",
       "      <th>전세</th>\n",
       "    </tr>\n",
       "  </thead>\n",
       "  <tbody>\n",
       "    <tr>\n",
       "      <th>count</th>\n",
       "      <td>41.000000</td>\n",
       "    </tr>\n",
       "    <tr>\n",
       "      <th>mean</th>\n",
       "      <td>107.602439</td>\n",
       "    </tr>\n",
       "    <tr>\n",
       "      <th>std</th>\n",
       "      <td>7.787795</td>\n",
       "    </tr>\n",
       "    <tr>\n",
       "      <th>min</th>\n",
       "      <td>99.100000</td>\n",
       "    </tr>\n",
       "    <tr>\n",
       "      <th>25%</th>\n",
       "      <td>100.300000</td>\n",
       "    </tr>\n",
       "    <tr>\n",
       "      <th>50%</th>\n",
       "      <td>105.000000</td>\n",
       "    </tr>\n",
       "    <tr>\n",
       "      <th>75%</th>\n",
       "      <td>113.600000</td>\n",
       "    </tr>\n",
       "    <tr>\n",
       "      <th>max</th>\n",
       "      <td>123.400000</td>\n",
       "    </tr>\n",
       "  </tbody>\n",
       "</table>\n",
       "</div>"
      ],
      "text/plain": [
       "               전세\n",
       "count   41.000000\n",
       "mean   107.602439\n",
       "std      7.787795\n",
       "min     99.100000\n",
       "25%    100.300000\n",
       "50%    105.000000\n",
       "75%    113.600000\n",
       "max    123.400000"
      ]
     },
     "execution_count": 14,
     "metadata": {},
     "output_type": "execute_result"
    }
   ],
   "source": [
    "# 함수를 이용해 매매가와 전세가를 파일로부터 로드해 봅시다.\n",
    "sale = load_data('sale.csv', '아파트', '경기', '규모2', '매매')\n",
    "rent = load_data('rent.csv', '아파트', '경기', '규모2', '전세')\n",
    "rent.????()"
   ]
  },
  {
   "cell_type": "code",
   "execution_count": 15,
   "metadata": {
    "collapsed": false
   },
   "outputs": [
    {
     "data": {
      "text/html": [
       "<div style=\"max-height:1000px;max-width:1500px;overflow:auto;\">\n",
       "<table border=\"1\" class=\"dataframe\">\n",
       "  <thead>\n",
       "    <tr style=\"text-align: right;\">\n",
       "      <th></th>\n",
       "      <th>매매</th>\n",
       "      <th>전세</th>\n",
       "    </tr>\n",
       "  </thead>\n",
       "  <tbody>\n",
       "    <tr>\n",
       "      <th>2012. 01</th>\n",
       "      <td>105.0</td>\n",
       "      <td>100.1</td>\n",
       "    </tr>\n",
       "    <tr>\n",
       "      <th>2012. 02</th>\n",
       "      <td>104.9</td>\n",
       "      <td>100.3</td>\n",
       "    </tr>\n",
       "    <tr>\n",
       "      <th>2012. 03</th>\n",
       "      <td>104.6</td>\n",
       "      <td>100.3</td>\n",
       "    </tr>\n",
       "    <tr>\n",
       "      <th>2012. 04</th>\n",
       "      <td>104.2</td>\n",
       "      <td>100.1</td>\n",
       "    </tr>\n",
       "    <tr>\n",
       "      <th>2012. 05</th>\n",
       "      <td>103.9</td>\n",
       "      <td>99.8</td>\n",
       "    </tr>\n",
       "  </tbody>\n",
       "</table>\n",
       "</div>"
      ],
      "text/plain": [
       "             매매     전세\n",
       "2012. 01  105.0  100.1\n",
       "2012. 02  104.9  100.3\n",
       "2012. 03  104.6  100.3\n",
       "2012. 04  104.2  100.1\n",
       "2012. 05  103.9   99.8"
      ]
     },
     "execution_count": 15,
     "metadata": {},
     "output_type": "execute_result"
    }
   ],
   "source": [
    "# 매매가와 전세가를 합쳐봅시다.\n",
    "joined = ????    # join 메소드를 사용해 보세요\n",
    "merged = ????    # merge 함수를 사용해 보세요\n",
    "concated = ????    # concat 함수를 사용해 보세요\n",
    "joined[:5]"
   ]
  },
  {
   "cell_type": "code",
   "execution_count": 16,
   "metadata": {
    "collapsed": false
   },
   "outputs": [
    {
     "data": {
      "text/plain": [
       "<matplotlib.axes._subplots.AxesSubplot at 0x10bf72f10>"
      ]
     },
     "execution_count": 16,
     "metadata": {},
     "output_type": "execute_result"
    },
    {
     "data": {
      "image/png": "[encoded data removed]",
      "text/plain": [
       "<matplotlib.figure.Figure at 0x10bf74f50>"
      ]
     },
     "metadata": {},
     "output_type": "display_data"
    }
   ],
   "source": [
    "# 그림을 그려볼까요?\n",
    "joined.????()"
   ]
  },
  {
   "cell_type": "code",
   "execution_count": 17,
   "metadata": {
    "collapsed": true
   },
   "outputs": [],
   "source": [
    "# 미친놈의 전세가.. oTL"
   ]
  },
  {
   "cell_type": "code",
   "execution_count": 18,
   "metadata": {
    "collapsed": false
   },
   "outputs": [
    {
     "data": {
      "text/html": [
       "<div style=\"max-height:1000px;max-width:1500px;overflow:auto;\">\n",
       "<table border=\"1\" class=\"dataframe\">\n",
       "  <thead>\n",
       "    <tr style=\"text-align: right;\">\n",
       "      <th></th>\n",
       "      <th>매매</th>\n",
       "      <th>전세</th>\n",
       "    </tr>\n",
       "  </thead>\n",
       "  <tbody>\n",
       "    <tr>\n",
       "      <th>매매</th>\n",
       "      <td>1.000000</td>\n",
       "      <td>0.152007</td>\n",
       "    </tr>\n",
       "    <tr>\n",
       "      <th>전세</th>\n",
       "      <td>0.152007</td>\n",
       "      <td>1.000000</td>\n",
       "    </tr>\n",
       "  </tbody>\n",
       "</table>\n",
       "</div>"
      ],
      "text/plain": [
       "          매매        전세\n",
       "매매  1.000000  0.152007\n",
       "전세  0.152007  1.000000"
      ]
     },
     "execution_count": 18,
     "metadata": {},
     "output_type": "execute_result"
    }
   ],
   "source": [
    "# 매매가와 전세가는 좀 상관관계가 있을까요?\n",
    "joined.????()"
   ]
  },
  {
   "cell_type": "code",
   "execution_count": 19,
   "metadata": {
    "collapsed": true
   },
   "outputs": [],
   "source": [
    "# 전세가 이 똘아이놈아!"
   ]
  }
 ],
 "metadata": {
  "kernelspec": {
   "display_name": "Python 2",
   "language": "python",
   "name": "python2"
  },
  "language_info": {
   "codemirror_mode": {
    "name": "ipython",
    "version": 2
   },
   "file_extension": ".py",
   "mimetype": "text/x-python",
   "name": "python",
   "nbconvert_exporter": "python",
   "pygments_lexer": "ipython2",
   "version": "2.7.6"
  }
 },
 "nbformat": 4,
 "nbformat_minor": 0
}
